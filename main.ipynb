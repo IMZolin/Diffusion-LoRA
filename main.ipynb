{
 "cells": [
  {
   "cell_type": "code",
   "execution_count": 1,
   "metadata": {},
   "outputs": [
    {
     "name": "stderr",
     "output_type": "stream",
     "text": [
      "/home/super-pc2/miniconda3/envs/diff-lora/lib/python3.12/site-packages/tqdm/auto.py:21: TqdmWarning: IProgress not found. Please update jupyter and ipywidgets. See https://ipywidgets.readthedocs.io/en/stable/user_install.html\n",
      "  from .autonotebook import tqdm as notebook_tqdm\n"
     ]
    }
   ],
   "source": [
    "import os\n",
    "from model import load_models, initialize_pipeline\n",
    "from train import train_lora\n",
    "from dataset import create_dataloader\n",
    "from model import generate_image\n",
    "import torch\n",
    "from utils import load_config"
   ]
  },
  {
   "cell_type": "code",
   "execution_count": 2,
   "metadata": {},
   "outputs": [],
   "source": [
    "config = load_config()"
   ]
  },
  {
   "cell_type": "code",
   "execution_count": 7,
   "metadata": {},
   "outputs": [
    {
     "data": {
      "text/plain": [
       "device(type='cuda')"
      ]
     },
     "execution_count": 7,
     "metadata": {},
     "output_type": "execute_result"
    }
   ],
   "source": [
    "DEVICE = torch.device('cuda' if torch.cuda.is_available() else 'cpu')\n",
    "NUM_EPOCHS = 20\n",
    "LR = 5e-5\n",
    "BATCH_SIZE = 1\n",
    "LORA_RANK = 4\n",
    "LORA_ALPHA = 1.0\n",
    "TRAINING_RESULTS = os.path.join(config.get(\"RESULTS_PATH\"), \"training_results\")\n",
    "os.makedirs(TRAINING_RESULTS, exist_ok=True)\n",
    "PROMPT = \"Anor Londo\"\n",
    "SAVE_DIR = config.get(\"TRAINING_FOLDER_NAME\")\n",
    "DEVICE"
   ]
  },
  {
   "cell_type": "code",
   "execution_count": 8,
   "metadata": {},
   "outputs": [],
   "source": [
    "vae, unet, text_encoder, tokenizer, noise_scheduler = load_models(config=config)\n",
    "pipe = initialize_pipeline(vae=vae, unet=unet, text_encoder=text_encoder, tokenizer=tokenizer, noise_scheduler=noise_scheduler, device=DEVICE)"
   ]
  },
  {
   "cell_type": "code",
   "execution_count": 12,
   "metadata": {},
   "outputs": [
    {
     "name": "stderr",
     "output_type": "stream",
     "text": [
      "100%|██████████| 50/50 [00:01<00:00, 40.62it/s]\n"
     ]
    }
   ],
   "source": [
    "image = pipe(PROMPT).images[0]\n",
    "image.save(os.path.join(TRAINING_RESULTS, \"test_output_before_lora.png\"))"
   ]
  },
  {
   "cell_type": "code",
   "execution_count": 13,
   "metadata": {},
   "outputs": [],
   "source": [
    "dataloader = create_dataloader(folder_path=config.get(\"DATASET_PATH\"), prompt=PROMPT, batch_size=BATCH_SIZE)"
   ]
  },
  {
   "cell_type": "code",
   "execution_count": 14,
   "metadata": {},
   "outputs": [
    {
     "name": "stdout",
     "output_type": "stream",
     "text": [
      "LoRA-change: time_embedding.linear_1\n",
      "LoRA-change: time_embedding.linear_2\n",
      "LoRA-change: down_blocks.0.attentions.0.transformer_blocks.0.attn1.to_q\n",
      "LoRA-change: down_blocks.0.attentions.0.transformer_blocks.0.attn1.to_k\n",
      "LoRA-change: down_blocks.0.attentions.0.transformer_blocks.0.attn1.to_v\n",
      "LoRA-change: down_blocks.0.attentions.0.transformer_blocks.0.attn1.to_out.0\n",
      "LoRA-change: down_blocks.0.attentions.0.transformer_blocks.0.attn2.to_q\n",
      "LoRA-change: down_blocks.0.attentions.0.transformer_blocks.0.attn2.to_k\n",
      "LoRA-change: down_blocks.0.attentions.0.transformer_blocks.0.attn2.to_v\n",
      "LoRA-change: down_blocks.0.attentions.0.transformer_blocks.0.attn2.to_out.0\n",
      "LoRA-change: down_blocks.0.attentions.0.transformer_blocks.0.ff.net.0.proj\n",
      "LoRA-change: down_blocks.0.attentions.0.transformer_blocks.0.ff.net.2\n",
      "LoRA-change: down_blocks.0.attentions.1.transformer_blocks.0.attn1.to_q\n",
      "LoRA-change: down_blocks.0.attentions.1.transformer_blocks.0.attn1.to_k\n",
      "LoRA-change: down_blocks.0.attentions.1.transformer_blocks.0.attn1.to_v\n",
      "LoRA-change: down_blocks.0.attentions.1.transformer_blocks.0.attn1.to_out.0\n",
      "LoRA-change: down_blocks.0.attentions.1.transformer_blocks.0.attn2.to_q\n",
      "LoRA-change: down_blocks.0.attentions.1.transformer_blocks.0.attn2.to_k\n",
      "LoRA-change: down_blocks.0.attentions.1.transformer_blocks.0.attn2.to_v\n",
      "LoRA-change: down_blocks.0.attentions.1.transformer_blocks.0.attn2.to_out.0\n",
      "LoRA-change: down_blocks.0.attentions.1.transformer_blocks.0.ff.net.0.proj\n",
      "LoRA-change: down_blocks.0.attentions.1.transformer_blocks.0.ff.net.2\n",
      "LoRA-change: down_blocks.0.resnets.0.time_emb_proj\n",
      "LoRA-change: down_blocks.0.resnets.1.time_emb_proj\n",
      "LoRA-change: down_blocks.1.attentions.0.transformer_blocks.0.attn1.to_q\n",
      "LoRA-change: down_blocks.1.attentions.0.transformer_blocks.0.attn1.to_k\n",
      "LoRA-change: down_blocks.1.attentions.0.transformer_blocks.0.attn1.to_v\n",
      "LoRA-change: down_blocks.1.attentions.0.transformer_blocks.0.attn1.to_out.0\n",
      "LoRA-change: down_blocks.1.attentions.0.transformer_blocks.0.attn2.to_q\n",
      "LoRA-change: down_blocks.1.attentions.0.transformer_blocks.0.attn2.to_k\n",
      "LoRA-change: down_blocks.1.attentions.0.transformer_blocks.0.attn2.to_v\n",
      "LoRA-change: down_blocks.1.attentions.0.transformer_blocks.0.attn2.to_out.0\n",
      "LoRA-change: down_blocks.1.attentions.0.transformer_blocks.0.ff.net.0.proj\n",
      "LoRA-change: down_blocks.1.attentions.0.transformer_blocks.0.ff.net.2\n",
      "LoRA-change: down_blocks.1.attentions.1.transformer_blocks.0.attn1.to_q\n",
      "LoRA-change: down_blocks.1.attentions.1.transformer_blocks.0.attn1.to_k\n",
      "LoRA-change: down_blocks.1.attentions.1.transformer_blocks.0.attn1.to_v\n",
      "LoRA-change: down_blocks.1.attentions.1.transformer_blocks.0.attn1.to_out.0\n",
      "LoRA-change: down_blocks.1.attentions.1.transformer_blocks.0.attn2.to_q\n",
      "LoRA-change: down_blocks.1.attentions.1.transformer_blocks.0.attn2.to_k\n",
      "LoRA-change: down_blocks.1.attentions.1.transformer_blocks.0.attn2.to_v\n",
      "LoRA-change: down_blocks.1.attentions.1.transformer_blocks.0.attn2.to_out.0\n",
      "LoRA-change: down_blocks.1.attentions.1.transformer_blocks.0.ff.net.0.proj\n",
      "LoRA-change: down_blocks.1.attentions.1.transformer_blocks.0.ff.net.2\n",
      "LoRA-change: down_blocks.1.resnets.0.time_emb_proj\n",
      "LoRA-change: down_blocks.1.resnets.1.time_emb_proj\n",
      "LoRA-change: down_blocks.2.attentions.0.transformer_blocks.0.attn1.to_q\n",
      "LoRA-change: down_blocks.2.attentions.0.transformer_blocks.0.attn1.to_k\n",
      "LoRA-change: down_blocks.2.attentions.0.transformer_blocks.0.attn1.to_v\n",
      "LoRA-change: down_blocks.2.attentions.0.transformer_blocks.0.attn1.to_out.0\n",
      "LoRA-change: down_blocks.2.attentions.0.transformer_blocks.0.attn2.to_q\n",
      "LoRA-change: down_blocks.2.attentions.0.transformer_blocks.0.attn2.to_k\n",
      "LoRA-change: down_blocks.2.attentions.0.transformer_blocks.0.attn2.to_v\n",
      "LoRA-change: down_blocks.2.attentions.0.transformer_blocks.0.attn2.to_out.0\n",
      "LoRA-change: down_blocks.2.attentions.0.transformer_blocks.0.ff.net.0.proj\n",
      "LoRA-change: down_blocks.2.attentions.0.transformer_blocks.0.ff.net.2\n",
      "LoRA-change: down_blocks.2.attentions.1.transformer_blocks.0.attn1.to_q\n",
      "LoRA-change: down_blocks.2.attentions.1.transformer_blocks.0.attn1.to_k\n",
      "LoRA-change: down_blocks.2.attentions.1.transformer_blocks.0.attn1.to_v\n",
      "LoRA-change: down_blocks.2.attentions.1.transformer_blocks.0.attn1.to_out.0\n",
      "LoRA-change: down_blocks.2.attentions.1.transformer_blocks.0.attn2.to_q\n",
      "LoRA-change: down_blocks.2.attentions.1.transformer_blocks.0.attn2.to_k\n",
      "LoRA-change: down_blocks.2.attentions.1.transformer_blocks.0.attn2.to_v\n",
      "LoRA-change: down_blocks.2.attentions.1.transformer_blocks.0.attn2.to_out.0\n",
      "LoRA-change: down_blocks.2.attentions.1.transformer_blocks.0.ff.net.0.proj\n",
      "LoRA-change: down_blocks.2.attentions.1.transformer_blocks.0.ff.net.2\n",
      "LoRA-change: down_blocks.2.resnets.0.time_emb_proj\n",
      "LoRA-change: down_blocks.2.resnets.1.time_emb_proj\n",
      "LoRA-change: down_blocks.3.resnets.0.time_emb_proj\n",
      "LoRA-change: down_blocks.3.resnets.1.time_emb_proj\n",
      "LoRA-change: up_blocks.0.resnets.0.time_emb_proj\n",
      "LoRA-change: up_blocks.0.resnets.1.time_emb_proj\n",
      "LoRA-change: up_blocks.0.resnets.2.time_emb_proj\n",
      "LoRA-change: up_blocks.1.attentions.0.transformer_blocks.0.attn1.to_q\n",
      "LoRA-change: up_blocks.1.attentions.0.transformer_blocks.0.attn1.to_k\n",
      "LoRA-change: up_blocks.1.attentions.0.transformer_blocks.0.attn1.to_v\n",
      "LoRA-change: up_blocks.1.attentions.0.transformer_blocks.0.attn1.to_out.0\n",
      "LoRA-change: up_blocks.1.attentions.0.transformer_blocks.0.attn2.to_q\n",
      "LoRA-change: up_blocks.1.attentions.0.transformer_blocks.0.attn2.to_k\n",
      "LoRA-change: up_blocks.1.attentions.0.transformer_blocks.0.attn2.to_v\n",
      "LoRA-change: up_blocks.1.attentions.0.transformer_blocks.0.attn2.to_out.0\n",
      "LoRA-change: up_blocks.1.attentions.0.transformer_blocks.0.ff.net.0.proj\n",
      "LoRA-change: up_blocks.1.attentions.0.transformer_blocks.0.ff.net.2\n",
      "LoRA-change: up_blocks.1.attentions.1.transformer_blocks.0.attn1.to_q\n",
      "LoRA-change: up_blocks.1.attentions.1.transformer_blocks.0.attn1.to_k\n",
      "LoRA-change: up_blocks.1.attentions.1.transformer_blocks.0.attn1.to_v\n",
      "LoRA-change: up_blocks.1.attentions.1.transformer_blocks.0.attn1.to_out.0\n",
      "LoRA-change: up_blocks.1.attentions.1.transformer_blocks.0.attn2.to_q\n",
      "LoRA-change: up_blocks.1.attentions.1.transformer_blocks.0.attn2.to_k\n",
      "LoRA-change: up_blocks.1.attentions.1.transformer_blocks.0.attn2.to_v\n",
      "LoRA-change: up_blocks.1.attentions.1.transformer_blocks.0.attn2.to_out.0\n",
      "LoRA-change: up_blocks.1.attentions.1.transformer_blocks.0.ff.net.0.proj\n",
      "LoRA-change: up_blocks.1.attentions.1.transformer_blocks.0.ff.net.2\n",
      "LoRA-change: up_blocks.1.attentions.2.transformer_blocks.0.attn1.to_q\n",
      "LoRA-change: up_blocks.1.attentions.2.transformer_blocks.0.attn1.to_k\n",
      "LoRA-change: up_blocks.1.attentions.2.transformer_blocks.0.attn1.to_v\n",
      "LoRA-change: up_blocks.1.attentions.2.transformer_blocks.0.attn1.to_out.0\n",
      "LoRA-change: up_blocks.1.attentions.2.transformer_blocks.0.attn2.to_q\n",
      "LoRA-change: up_blocks.1.attentions.2.transformer_blocks.0.attn2.to_k\n",
      "LoRA-change: up_blocks.1.attentions.2.transformer_blocks.0.attn2.to_v\n",
      "LoRA-change: up_blocks.1.attentions.2.transformer_blocks.0.attn2.to_out.0\n",
      "LoRA-change: up_blocks.1.attentions.2.transformer_blocks.0.ff.net.0.proj\n",
      "LoRA-change: up_blocks.1.attentions.2.transformer_blocks.0.ff.net.2\n",
      "LoRA-change: up_blocks.1.resnets.0.time_emb_proj\n",
      "LoRA-change: up_blocks.1.resnets.1.time_emb_proj\n",
      "LoRA-change: up_blocks.1.resnets.2.time_emb_proj\n",
      "LoRA-change: up_blocks.2.attentions.0.transformer_blocks.0.attn1.to_q\n",
      "LoRA-change: up_blocks.2.attentions.0.transformer_blocks.0.attn1.to_k\n",
      "LoRA-change: up_blocks.2.attentions.0.transformer_blocks.0.attn1.to_v\n",
      "LoRA-change: up_blocks.2.attentions.0.transformer_blocks.0.attn1.to_out.0\n",
      "LoRA-change: up_blocks.2.attentions.0.transformer_blocks.0.attn2.to_q\n",
      "LoRA-change: up_blocks.2.attentions.0.transformer_blocks.0.attn2.to_k\n",
      "LoRA-change: up_blocks.2.attentions.0.transformer_blocks.0.attn2.to_v\n",
      "LoRA-change: up_blocks.2.attentions.0.transformer_blocks.0.attn2.to_out.0\n",
      "LoRA-change: up_blocks.2.attentions.0.transformer_blocks.0.ff.net.0.proj\n",
      "LoRA-change: up_blocks.2.attentions.0.transformer_blocks.0.ff.net.2\n",
      "LoRA-change: up_blocks.2.attentions.1.transformer_blocks.0.attn1.to_q\n",
      "LoRA-change: up_blocks.2.attentions.1.transformer_blocks.0.attn1.to_k\n",
      "LoRA-change: up_blocks.2.attentions.1.transformer_blocks.0.attn1.to_v\n",
      "LoRA-change: up_blocks.2.attentions.1.transformer_blocks.0.attn1.to_out.0\n",
      "LoRA-change: up_blocks.2.attentions.1.transformer_blocks.0.attn2.to_q\n",
      "LoRA-change: up_blocks.2.attentions.1.transformer_blocks.0.attn2.to_k\n",
      "LoRA-change: up_blocks.2.attentions.1.transformer_blocks.0.attn2.to_v\n",
      "LoRA-change: up_blocks.2.attentions.1.transformer_blocks.0.attn2.to_out.0\n",
      "LoRA-change: up_blocks.2.attentions.1.transformer_blocks.0.ff.net.0.proj\n",
      "LoRA-change: up_blocks.2.attentions.1.transformer_blocks.0.ff.net.2\n",
      "LoRA-change: up_blocks.2.attentions.2.transformer_blocks.0.attn1.to_q\n",
      "LoRA-change: up_blocks.2.attentions.2.transformer_blocks.0.attn1.to_k\n",
      "LoRA-change: up_blocks.2.attentions.2.transformer_blocks.0.attn1.to_v\n",
      "LoRA-change: up_blocks.2.attentions.2.transformer_blocks.0.attn1.to_out.0\n",
      "LoRA-change: up_blocks.2.attentions.2.transformer_blocks.0.attn2.to_q\n",
      "LoRA-change: up_blocks.2.attentions.2.transformer_blocks.0.attn2.to_k\n",
      "LoRA-change: up_blocks.2.attentions.2.transformer_blocks.0.attn2.to_v\n",
      "LoRA-change: up_blocks.2.attentions.2.transformer_blocks.0.attn2.to_out.0\n",
      "LoRA-change: up_blocks.2.attentions.2.transformer_blocks.0.ff.net.0.proj\n",
      "LoRA-change: up_blocks.2.attentions.2.transformer_blocks.0.ff.net.2\n",
      "LoRA-change: up_blocks.2.resnets.0.time_emb_proj\n",
      "LoRA-change: up_blocks.2.resnets.1.time_emb_proj\n",
      "LoRA-change: up_blocks.2.resnets.2.time_emb_proj\n",
      "LoRA-change: up_blocks.3.attentions.0.transformer_blocks.0.attn1.to_q\n",
      "LoRA-change: up_blocks.3.attentions.0.transformer_blocks.0.attn1.to_k\n",
      "LoRA-change: up_blocks.3.attentions.0.transformer_blocks.0.attn1.to_v\n",
      "LoRA-change: up_blocks.3.attentions.0.transformer_blocks.0.attn1.to_out.0\n",
      "LoRA-change: up_blocks.3.attentions.0.transformer_blocks.0.attn2.to_q\n",
      "LoRA-change: up_blocks.3.attentions.0.transformer_blocks.0.attn2.to_k\n",
      "LoRA-change: up_blocks.3.attentions.0.transformer_blocks.0.attn2.to_v\n",
      "LoRA-change: up_blocks.3.attentions.0.transformer_blocks.0.attn2.to_out.0\n",
      "LoRA-change: up_blocks.3.attentions.0.transformer_blocks.0.ff.net.0.proj\n",
      "LoRA-change: up_blocks.3.attentions.0.transformer_blocks.0.ff.net.2\n",
      "LoRA-change: up_blocks.3.attentions.1.transformer_blocks.0.attn1.to_q\n",
      "LoRA-change: up_blocks.3.attentions.1.transformer_blocks.0.attn1.to_k\n",
      "LoRA-change: up_blocks.3.attentions.1.transformer_blocks.0.attn1.to_v\n",
      "LoRA-change: up_blocks.3.attentions.1.transformer_blocks.0.attn1.to_out.0\n",
      "LoRA-change: up_blocks.3.attentions.1.transformer_blocks.0.attn2.to_q\n",
      "LoRA-change: up_blocks.3.attentions.1.transformer_blocks.0.attn2.to_k\n",
      "LoRA-change: up_blocks.3.attentions.1.transformer_blocks.0.attn2.to_v\n",
      "LoRA-change: up_blocks.3.attentions.1.transformer_blocks.0.attn2.to_out.0\n",
      "LoRA-change: up_blocks.3.attentions.1.transformer_blocks.0.ff.net.0.proj\n",
      "LoRA-change: up_blocks.3.attentions.1.transformer_blocks.0.ff.net.2\n",
      "LoRA-change: up_blocks.3.attentions.2.transformer_blocks.0.attn1.to_q\n",
      "LoRA-change: up_blocks.3.attentions.2.transformer_blocks.0.attn1.to_k\n",
      "LoRA-change: up_blocks.3.attentions.2.transformer_blocks.0.attn1.to_v\n",
      "LoRA-change: up_blocks.3.attentions.2.transformer_blocks.0.attn1.to_out.0\n",
      "LoRA-change: up_blocks.3.attentions.2.transformer_blocks.0.attn2.to_q\n",
      "LoRA-change: up_blocks.3.attentions.2.transformer_blocks.0.attn2.to_k\n",
      "LoRA-change: up_blocks.3.attentions.2.transformer_blocks.0.attn2.to_v\n",
      "LoRA-change: up_blocks.3.attentions.2.transformer_blocks.0.attn2.to_out.0\n",
      "LoRA-change: up_blocks.3.attentions.2.transformer_blocks.0.ff.net.0.proj\n",
      "LoRA-change: up_blocks.3.attentions.2.transformer_blocks.0.ff.net.2\n",
      "LoRA-change: up_blocks.3.resnets.0.time_emb_proj\n",
      "LoRA-change: up_blocks.3.resnets.1.time_emb_proj\n",
      "LoRA-change: up_blocks.3.resnets.2.time_emb_proj\n",
      "LoRA-change: mid_block.attentions.0.transformer_blocks.0.attn1.to_q\n",
      "LoRA-change: mid_block.attentions.0.transformer_blocks.0.attn1.to_k\n",
      "LoRA-change: mid_block.attentions.0.transformer_blocks.0.attn1.to_v\n",
      "LoRA-change: mid_block.attentions.0.transformer_blocks.0.attn1.to_out.0\n",
      "LoRA-change: mid_block.attentions.0.transformer_blocks.0.attn2.to_q\n",
      "LoRA-change: mid_block.attentions.0.transformer_blocks.0.attn2.to_k\n",
      "LoRA-change: mid_block.attentions.0.transformer_blocks.0.attn2.to_v\n",
      "LoRA-change: mid_block.attentions.0.transformer_blocks.0.attn2.to_out.0\n",
      "LoRA-change: mid_block.attentions.0.transformer_blocks.0.ff.net.0.proj\n",
      "LoRA-change: mid_block.attentions.0.transformer_blocks.0.ff.net.2\n",
      "LoRA-change: mid_block.resnets.0.time_emb_proj\n",
      "LoRA-change: mid_block.resnets.1.time_emb_proj\n",
      "LoRA-change: encoder.mid_block.attentions.0.to_q\n",
      "LoRA-change: encoder.mid_block.attentions.0.to_k\n",
      "LoRA-change: encoder.mid_block.attentions.0.to_v\n",
      "LoRA-change: encoder.mid_block.attentions.0.to_out.0\n",
      "LoRA-change: decoder.mid_block.attentions.0.to_q\n",
      "LoRA-change: decoder.mid_block.attentions.0.to_k\n",
      "LoRA-change: decoder.mid_block.attentions.0.to_v\n",
      "LoRA-change: decoder.mid_block.attentions.0.to_out.0\n",
      "LoRA-change: text_model.encoder.layers.0.self_attn.k_proj\n",
      "LoRA-change: text_model.encoder.layers.0.self_attn.v_proj\n",
      "LoRA-change: text_model.encoder.layers.0.self_attn.q_proj\n",
      "LoRA-change: text_model.encoder.layers.0.self_attn.out_proj\n",
      "LoRA-change: text_model.encoder.layers.0.mlp.fc1\n",
      "LoRA-change: text_model.encoder.layers.0.mlp.fc2\n",
      "LoRA-change: text_model.encoder.layers.1.self_attn.k_proj\n",
      "LoRA-change: text_model.encoder.layers.1.self_attn.v_proj\n",
      "LoRA-change: text_model.encoder.layers.1.self_attn.q_proj\n",
      "LoRA-change: text_model.encoder.layers.1.self_attn.out_proj\n",
      "LoRA-change: text_model.encoder.layers.1.mlp.fc1\n",
      "LoRA-change: text_model.encoder.layers.1.mlp.fc2\n",
      "LoRA-change: text_model.encoder.layers.2.self_attn.k_proj\n",
      "LoRA-change: text_model.encoder.layers.2.self_attn.v_proj\n",
      "LoRA-change: text_model.encoder.layers.2.self_attn.q_proj\n",
      "LoRA-change: text_model.encoder.layers.2.self_attn.out_proj\n",
      "LoRA-change: text_model.encoder.layers.2.mlp.fc1\n",
      "LoRA-change: text_model.encoder.layers.2.mlp.fc2\n",
      "LoRA-change: text_model.encoder.layers.3.self_attn.k_proj\n",
      "LoRA-change: text_model.encoder.layers.3.self_attn.v_proj\n",
      "LoRA-change: text_model.encoder.layers.3.self_attn.q_proj\n",
      "LoRA-change: text_model.encoder.layers.3.self_attn.out_proj\n",
      "LoRA-change: text_model.encoder.layers.3.mlp.fc1\n",
      "LoRA-change: text_model.encoder.layers.3.mlp.fc2\n",
      "LoRA-change: text_model.encoder.layers.4.self_attn.k_proj\n",
      "LoRA-change: text_model.encoder.layers.4.self_attn.v_proj\n",
      "LoRA-change: text_model.encoder.layers.4.self_attn.q_proj\n",
      "LoRA-change: text_model.encoder.layers.4.self_attn.out_proj\n",
      "LoRA-change: text_model.encoder.layers.4.mlp.fc1\n",
      "LoRA-change: text_model.encoder.layers.4.mlp.fc2\n",
      "LoRA-change: text_model.encoder.layers.5.self_attn.k_proj\n",
      "LoRA-change: text_model.encoder.layers.5.self_attn.v_proj\n",
      "LoRA-change: text_model.encoder.layers.5.self_attn.q_proj\n",
      "LoRA-change: text_model.encoder.layers.5.self_attn.out_proj\n",
      "LoRA-change: text_model.encoder.layers.5.mlp.fc1\n",
      "LoRA-change: text_model.encoder.layers.5.mlp.fc2\n",
      "LoRA-change: text_model.encoder.layers.6.self_attn.k_proj\n",
      "LoRA-change: text_model.encoder.layers.6.self_attn.v_proj\n",
      "LoRA-change: text_model.encoder.layers.6.self_attn.q_proj\n",
      "LoRA-change: text_model.encoder.layers.6.self_attn.out_proj\n",
      "LoRA-change: text_model.encoder.layers.6.mlp.fc1\n",
      "LoRA-change: text_model.encoder.layers.6.mlp.fc2\n",
      "LoRA-change: text_model.encoder.layers.7.self_attn.k_proj\n",
      "LoRA-change: text_model.encoder.layers.7.self_attn.v_proj\n",
      "LoRA-change: text_model.encoder.layers.7.self_attn.q_proj\n",
      "LoRA-change: text_model.encoder.layers.7.self_attn.out_proj\n",
      "LoRA-change: text_model.encoder.layers.7.mlp.fc1\n",
      "LoRA-change: text_model.encoder.layers.7.mlp.fc2\n",
      "LoRA-change: text_model.encoder.layers.8.self_attn.k_proj\n",
      "LoRA-change: text_model.encoder.layers.8.self_attn.v_proj\n",
      "LoRA-change: text_model.encoder.layers.8.self_attn.q_proj\n",
      "LoRA-change: text_model.encoder.layers.8.self_attn.out_proj\n",
      "LoRA-change: text_model.encoder.layers.8.mlp.fc1\n",
      "LoRA-change: text_model.encoder.layers.8.mlp.fc2\n",
      "LoRA-change: text_model.encoder.layers.9.self_attn.k_proj\n",
      "LoRA-change: text_model.encoder.layers.9.self_attn.v_proj\n",
      "LoRA-change: text_model.encoder.layers.9.self_attn.q_proj\n",
      "LoRA-change: text_model.encoder.layers.9.self_attn.out_proj\n",
      "LoRA-change: text_model.encoder.layers.9.mlp.fc1\n",
      "LoRA-change: text_model.encoder.layers.9.mlp.fc2\n",
      "LoRA-change: text_model.encoder.layers.10.self_attn.k_proj\n",
      "LoRA-change: text_model.encoder.layers.10.self_attn.v_proj\n",
      "LoRA-change: text_model.encoder.layers.10.self_attn.q_proj\n",
      "LoRA-change: text_model.encoder.layers.10.self_attn.out_proj\n",
      "LoRA-change: text_model.encoder.layers.10.mlp.fc1\n",
      "LoRA-change: text_model.encoder.layers.10.mlp.fc2\n",
      "LoRA-change: text_model.encoder.layers.11.self_attn.k_proj\n",
      "LoRA-change: text_model.encoder.layers.11.self_attn.v_proj\n",
      "LoRA-change: text_model.encoder.layers.11.self_attn.q_proj\n",
      "LoRA-change: text_model.encoder.layers.11.self_attn.out_proj\n",
      "LoRA-change: text_model.encoder.layers.11.mlp.fc1\n",
      "LoRA-change: text_model.encoder.layers.11.mlp.fc2\n"
     ]
    },
    {
     "name": "stderr",
     "output_type": "stream",
     "text": [
      "Epoch 1/20: 100%|██████████| 10/10 [00:01<00:00,  5.68it/s]\n"
     ]
    },
    {
     "name": "stdout",
     "output_type": "stream",
     "text": [
      "Epoch 1 completed. Loss: 0.3115234375\n"
     ]
    },
    {
     "name": "stderr",
     "output_type": "stream",
     "text": [
      "Epoch 2/20: 100%|██████████| 10/10 [00:01<00:00,  6.31it/s]\n"
     ]
    },
    {
     "name": "stdout",
     "output_type": "stream",
     "text": [
      "Epoch 2 completed. Loss: 0.27099609375\n"
     ]
    },
    {
     "name": "stderr",
     "output_type": "stream",
     "text": [
      "Epoch 3/20: 100%|██████████| 10/10 [00:01<00:00,  5.87it/s]\n"
     ]
    },
    {
     "name": "stdout",
     "output_type": "stream",
     "text": [
      "Epoch 3 completed. Loss: 0.48974609375\n"
     ]
    },
    {
     "name": "stderr",
     "output_type": "stream",
     "text": [
      "Epoch 4/20: 100%|██████████| 10/10 [00:01<00:00,  6.48it/s]\n"
     ]
    },
    {
     "name": "stdout",
     "output_type": "stream",
     "text": [
      "Epoch 4 completed. Loss: 0.0240325927734375\n"
     ]
    },
    {
     "name": "stderr",
     "output_type": "stream",
     "text": [
      "Epoch 5/20: 100%|██████████| 10/10 [00:01<00:00,  6.65it/s]\n"
     ]
    },
    {
     "name": "stdout",
     "output_type": "stream",
     "text": [
      "Epoch 5 completed. Loss: 0.0194854736328125\n"
     ]
    },
    {
     "name": "stderr",
     "output_type": "stream",
     "text": [
      "Epoch 6/20: 100%|██████████| 10/10 [00:01<00:00,  6.19it/s]\n"
     ]
    },
    {
     "name": "stdout",
     "output_type": "stream",
     "text": [
      "Epoch 6 completed. Loss: 0.043365478515625\n"
     ]
    },
    {
     "name": "stderr",
     "output_type": "stream",
     "text": [
      "Epoch 7/20: 100%|██████████| 10/10 [00:01<00:00,  6.09it/s]\n"
     ]
    },
    {
     "name": "stdout",
     "output_type": "stream",
     "text": [
      "Epoch 7 completed. Loss: 0.04345703125\n"
     ]
    },
    {
     "name": "stderr",
     "output_type": "stream",
     "text": [
      "Epoch 8/20: 100%|██████████| 10/10 [00:01<00:00,  6.59it/s]\n"
     ]
    },
    {
     "name": "stdout",
     "output_type": "stream",
     "text": [
      "Epoch 8 completed. Loss: 0.23583984375\n"
     ]
    },
    {
     "name": "stderr",
     "output_type": "stream",
     "text": [
      "Epoch 9/20: 100%|██████████| 10/10 [00:01<00:00,  5.94it/s]\n"
     ]
    },
    {
     "name": "stdout",
     "output_type": "stream",
     "text": [
      "Epoch 9 completed. Loss: 0.280517578125\n"
     ]
    },
    {
     "name": "stderr",
     "output_type": "stream",
     "text": [
      "Epoch 10/20: 100%|██████████| 10/10 [00:01<00:00,  5.97it/s]\n"
     ]
    },
    {
     "name": "stdout",
     "output_type": "stream",
     "text": [
      "Epoch 10 completed. Loss: 0.223876953125\n"
     ]
    },
    {
     "name": "stderr",
     "output_type": "stream",
     "text": [
      "Epoch 11/20: 100%|██████████| 10/10 [00:01<00:00,  6.71it/s]\n"
     ]
    },
    {
     "name": "stdout",
     "output_type": "stream",
     "text": [
      "Epoch 11 completed. Loss: 0.060760498046875\n"
     ]
    },
    {
     "name": "stderr",
     "output_type": "stream",
     "text": [
      "Epoch 12/20: 100%|██████████| 10/10 [00:01<00:00,  6.61it/s]\n"
     ]
    },
    {
     "name": "stdout",
     "output_type": "stream",
     "text": [
      "Epoch 12 completed. Loss: 0.1533203125\n"
     ]
    },
    {
     "name": "stderr",
     "output_type": "stream",
     "text": [
      "Epoch 13/20: 100%|██████████| 10/10 [00:01<00:00,  6.31it/s]\n"
     ]
    },
    {
     "name": "stdout",
     "output_type": "stream",
     "text": [
      "Epoch 13 completed. Loss: 0.01247406005859375\n"
     ]
    },
    {
     "name": "stderr",
     "output_type": "stream",
     "text": [
      "Epoch 14/20: 100%|██████████| 10/10 [00:01<00:00,  6.10it/s]\n"
     ]
    },
    {
     "name": "stdout",
     "output_type": "stream",
     "text": [
      "Epoch 14 completed. Loss: 0.0099639892578125\n"
     ]
    },
    {
     "name": "stderr",
     "output_type": "stream",
     "text": [
      "Epoch 15/20: 100%|██████████| 10/10 [00:01<00:00,  6.23it/s]\n"
     ]
    },
    {
     "name": "stdout",
     "output_type": "stream",
     "text": [
      "Epoch 15 completed. Loss: 0.00981903076171875\n"
     ]
    },
    {
     "name": "stderr",
     "output_type": "stream",
     "text": [
      "Epoch 16/20: 100%|██████████| 10/10 [00:01<00:00,  6.22it/s]\n"
     ]
    },
    {
     "name": "stdout",
     "output_type": "stream",
     "text": [
      "Epoch 16 completed. Loss: 0.1177978515625\n"
     ]
    },
    {
     "name": "stderr",
     "output_type": "stream",
     "text": [
      "Epoch 17/20: 100%|██████████| 10/10 [00:01<00:00,  6.01it/s]\n"
     ]
    },
    {
     "name": "stdout",
     "output_type": "stream",
     "text": [
      "Epoch 17 completed. Loss: 0.003509521484375\n"
     ]
    },
    {
     "name": "stderr",
     "output_type": "stream",
     "text": [
      "Epoch 18/20: 100%|██████████| 10/10 [00:01<00:00,  6.00it/s]\n"
     ]
    },
    {
     "name": "stdout",
     "output_type": "stream",
     "text": [
      "Epoch 18 completed. Loss: 0.09906005859375\n"
     ]
    },
    {
     "name": "stderr",
     "output_type": "stream",
     "text": [
      "Epoch 19/20: 100%|██████████| 10/10 [00:01<00:00,  6.30it/s]\n"
     ]
    },
    {
     "name": "stdout",
     "output_type": "stream",
     "text": [
      "Epoch 19 completed. Loss: 0.09967041015625\n"
     ]
    },
    {
     "name": "stderr",
     "output_type": "stream",
     "text": [
      "Epoch 20/20: 100%|██████████| 10/10 [00:01<00:00,  6.14it/s]\n"
     ]
    },
    {
     "name": "stdout",
     "output_type": "stream",
     "text": [
      "Epoch 20 completed. Loss: 0.0574951171875\n",
      "Final weights saved to experiments/experiment_20250113_171703/lora_weights_last_epoch.pth.\n"
     ]
    }
   ],
   "source": [
    "train_lora(vae=vae, unet=unet, text_encoder=text_encoder, tokenizer=tokenizer, noise_scheduler=noise_scheduler, dataloader=dataloader, device=DEVICE, lora_rank=LORA_RANK, lora_alpha=LORA_ALPHA, num_epochs=NUM_EPOCHS, lr=LR, save_dir=SAVE_DIR)"
   ]
  },
  {
   "cell_type": "code",
   "execution_count": 17,
   "metadata": {},
   "outputs": [
    {
     "name": "stderr",
     "output_type": "stream",
     "text": [
      "100%|██████████| 30/30 [00:01<00:00, 25.16it/s]"
     ]
    },
    {
     "name": "stdout",
     "output_type": "stream",
     "text": [
      "Generated picture save in : results/training_results/test_lora_all_sd.png\n"
     ]
    },
    {
     "name": "stderr",
     "output_type": "stream",
     "text": [
      "\n"
     ]
    }
   ],
   "source": [
    "generate_image(pipe, PROMPT, os.path.join(TRAINING_RESULTS, \"test_lora_all_sd.png\"))"
   ]
  }
 ],
 "metadata": {
  "kernelspec": {
   "display_name": "diff-lora",
   "language": "python",
   "name": "python3"
  },
  "language_info": {
   "codemirror_mode": {
    "name": "ipython",
    "version": 3
   },
   "file_extension": ".py",
   "mimetype": "text/x-python",
   "name": "python",
   "nbconvert_exporter": "python",
   "pygments_lexer": "ipython3",
   "version": "3.12.8"
  }
 },
 "nbformat": 4,
 "nbformat_minor": 2
}
