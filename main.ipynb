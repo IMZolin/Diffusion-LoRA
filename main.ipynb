{
 "cells": [
  {
   "cell_type": "code",
   "execution_count": 1,
   "metadata": {},
   "outputs": [
    {
     "name": "stderr",
     "output_type": "stream",
     "text": [
      "/home/super-pc2/miniconda3/envs/diff-lora/lib/python3.12/site-packages/tqdm/auto.py:21: TqdmWarning: IProgress not found. Please update jupyter and ipywidgets. See https://ipywidgets.readthedocs.io/en/stable/user_install.html\n",
      "  from .autonotebook import tqdm as notebook_tqdm\n"
     ]
    }
   ],
   "source": [
    "import os\n",
    "from model import load_models, initialize_pipeline\n",
    "from train import train_lora\n",
    "from dataset import create_dataloader\n",
    "from model import generate_image\n",
    "import torch\n",
    "from utils import load_config"
   ]
  },
  {
   "cell_type": "code",
   "execution_count": 2,
   "metadata": {},
   "outputs": [],
   "source": [
    "config = load_config()"
   ]
  },
  {
   "cell_type": "code",
   "execution_count": 3,
   "metadata": {},
   "outputs": [
    {
     "data": {
      "text/plain": [
       "device(type='cuda')"
      ]
     },
     "execution_count": 3,
     "metadata": {},
     "output_type": "execute_result"
    }
   ],
   "source": [
    "DEVICE = torch.device('cuda' if torch.cuda.is_available() else 'cpu')\n",
    "NUM_EPOCHS = 20\n",
    "LR = 5e-5\n",
    "ACCUMULATION_STEPS = 4\n",
    "BATCH_SIZE = 1\n",
    "LORA_RANK = 128\n",
    "LORA_ALPHA = 64\n",
    "# DATASET_PATH = os.path.join(config.get(\"DATASET_PATH\"), \"Anor_Londo\")\n",
    "DATASET_PATH = os.path.join(config.get(\"DATASET_PATH\"), \"nupogodi_dataset\")\n",
    "TRAINING_RESULTS = os.path.join(config.get(\"RESULTS_PATH\"), \"training_results\", \"2\")\n",
    "os.makedirs(TRAINING_RESULTS, exist_ok=True)\n",
    "# PROMPT = \"The image in style of the pathologic 2\"\n",
    "# PROMPT = \"Round pink hedgehog from the cartoon Smeshariki.\"\n",
    "PROMPT = \"The wolf from the cartoon “Well, Wait!”\"\n",
    "# PROMPT = \"Anor Londo\"\n",
    "SAVE_DIR = config.get(\"TRAINING_FOLDER_NAME\")\n",
    "DEVICE"
   ]
  },
  {
   "cell_type": "code",
   "execution_count": 4,
   "metadata": {},
   "outputs": [],
   "source": [
    "vae, unet, text_encoder, tokenizer, noise_scheduler = load_models()\n",
    "pipe = initialize_pipeline(vae=vae, unet=unet, text_encoder=text_encoder, tokenizer=tokenizer, noise_scheduler=noise_scheduler, device=DEVICE)"
   ]
  },
  {
   "cell_type": "code",
   "execution_count": 5,
   "metadata": {},
   "outputs": [
    {
     "name": "stderr",
     "output_type": "stream",
     "text": [
      "100%|██████████| 50/50 [00:01<00:00, 35.83it/s]\n"
     ]
    }
   ],
   "source": [
    "image = pipe(PROMPT).images[0]\n",
    "image.save(os.path.join(TRAINING_RESULTS, \"test_output_before_lora.png\"))"
   ]
  },
  {
   "cell_type": "code",
   "execution_count": 6,
   "metadata": {},
   "outputs": [],
   "source": [
    "dataloader = create_dataloader(folder_path=DATASET_PATH, prompt=PROMPT, batch_size=BATCH_SIZE)"
   ]
  },
  {
   "cell_type": "code",
   "execution_count": 7,
   "metadata": {},
   "outputs": [],
   "source": [
    "!export PYTORCH_CUDA_ALLOC_CONF=expandable_segments:True"
   ]
  },
  {
   "cell_type": "code",
   "execution_count": 8,
   "metadata": {},
   "outputs": [
    {
     "name": "stdout",
     "output_type": "stream",
     "text": [
      "LoRA-change: time_embedding.linear_1\n",
      "LoRA-change: time_embedding.linear_2\n",
      "LoRA-change: down_blocks.0.attentions.0.transformer_blocks.0.attn1.to_q\n",
      "LoRA-change: down_blocks.0.attentions.0.transformer_blocks.0.attn1.to_k\n",
      "LoRA-change: down_blocks.0.attentions.0.transformer_blocks.0.attn1.to_v\n",
      "LoRA-change: down_blocks.0.attentions.0.transformer_blocks.0.attn1.to_out.0\n",
      "LoRA-change: down_blocks.0.attentions.0.transformer_blocks.0.attn2.to_q\n",
      "LoRA-change: down_blocks.0.attentions.0.transformer_blocks.0.attn2.to_k\n",
      "LoRA-change: down_blocks.0.attentions.0.transformer_blocks.0.attn2.to_v\n",
      "LoRA-change: down_blocks.0.attentions.0.transformer_blocks.0.attn2.to_out.0\n",
      "LoRA-change: down_blocks.0.attentions.0.transformer_blocks.0.ff.net.0.proj\n",
      "LoRA-change: down_blocks.0.attentions.0.transformer_blocks.0.ff.net.2\n",
      "LoRA-change: down_blocks.0.attentions.1.transformer_blocks.0.attn1.to_q\n",
      "LoRA-change: down_blocks.0.attentions.1.transformer_blocks.0.attn1.to_k\n",
      "LoRA-change: down_blocks.0.attentions.1.transformer_blocks.0.attn1.to_v\n",
      "LoRA-change: down_blocks.0.attentions.1.transformer_blocks.0.attn1.to_out.0\n",
      "LoRA-change: down_blocks.0.attentions.1.transformer_blocks.0.attn2.to_q\n",
      "LoRA-change: down_blocks.0.attentions.1.transformer_blocks.0.attn2.to_k\n",
      "LoRA-change: down_blocks.0.attentions.1.transformer_blocks.0.attn2.to_v\n",
      "LoRA-change: down_blocks.0.attentions.1.transformer_blocks.0.attn2.to_out.0\n",
      "LoRA-change: down_blocks.0.attentions.1.transformer_blocks.0.ff.net.0.proj\n",
      "LoRA-change: down_blocks.0.attentions.1.transformer_blocks.0.ff.net.2\n",
      "LoRA-change: down_blocks.0.resnets.0.time_emb_proj\n",
      "LoRA-change: down_blocks.0.resnets.1.time_emb_proj\n",
      "LoRA-change: down_blocks.1.attentions.0.transformer_blocks.0.attn1.to_q\n",
      "LoRA-change: down_blocks.1.attentions.0.transformer_blocks.0.attn1.to_k\n",
      "LoRA-change: down_blocks.1.attentions.0.transformer_blocks.0.attn1.to_v\n",
      "LoRA-change: down_blocks.1.attentions.0.transformer_blocks.0.attn1.to_out.0\n",
      "LoRA-change: down_blocks.1.attentions.0.transformer_blocks.0.attn2.to_q\n",
      "LoRA-change: down_blocks.1.attentions.0.transformer_blocks.0.attn2.to_k\n",
      "LoRA-change: down_blocks.1.attentions.0.transformer_blocks.0.attn2.to_v\n",
      "LoRA-change: down_blocks.1.attentions.0.transformer_blocks.0.attn2.to_out.0\n",
      "LoRA-change: down_blocks.1.attentions.0.transformer_blocks.0.ff.net.0.proj\n",
      "LoRA-change: down_blocks.1.attentions.0.transformer_blocks.0.ff.net.2\n",
      "LoRA-change: down_blocks.1.attentions.1.transformer_blocks.0.attn1.to_q\n",
      "LoRA-change: down_blocks.1.attentions.1.transformer_blocks.0.attn1.to_k\n",
      "LoRA-change: down_blocks.1.attentions.1.transformer_blocks.0.attn1.to_v\n",
      "LoRA-change: down_blocks.1.attentions.1.transformer_blocks.0.attn1.to_out.0\n",
      "LoRA-change: down_blocks.1.attentions.1.transformer_blocks.0.attn2.to_q\n",
      "LoRA-change: down_blocks.1.attentions.1.transformer_blocks.0.attn2.to_k\n",
      "LoRA-change: down_blocks.1.attentions.1.transformer_blocks.0.attn2.to_v\n",
      "LoRA-change: down_blocks.1.attentions.1.transformer_blocks.0.attn2.to_out.0\n",
      "LoRA-change: down_blocks.1.attentions.1.transformer_blocks.0.ff.net.0.proj\n",
      "LoRA-change: down_blocks.1.attentions.1.transformer_blocks.0.ff.net.2\n",
      "LoRA-change: down_blocks.1.resnets.0.time_emb_proj\n",
      "LoRA-change: down_blocks.1.resnets.1.time_emb_proj\n",
      "LoRA-change: down_blocks.2.attentions.0.transformer_blocks.0.attn1.to_q\n",
      "LoRA-change: down_blocks.2.attentions.0.transformer_blocks.0.attn1.to_k\n",
      "LoRA-change: down_blocks.2.attentions.0.transformer_blocks.0.attn1.to_v\n",
      "LoRA-change: down_blocks.2.attentions.0.transformer_blocks.0.attn1.to_out.0\n",
      "LoRA-change: down_blocks.2.attentions.0.transformer_blocks.0.attn2.to_q\n",
      "LoRA-change: down_blocks.2.attentions.0.transformer_blocks.0.attn2.to_k\n",
      "LoRA-change: down_blocks.2.attentions.0.transformer_blocks.0.attn2.to_v\n",
      "LoRA-change: down_blocks.2.attentions.0.transformer_blocks.0.attn2.to_out.0\n",
      "LoRA-change: down_blocks.2.attentions.0.transformer_blocks.0.ff.net.0.proj\n",
      "LoRA-change: down_blocks.2.attentions.0.transformer_blocks.0.ff.net.2\n",
      "LoRA-change: down_blocks.2.attentions.1.transformer_blocks.0.attn1.to_q\n",
      "LoRA-change: down_blocks.2.attentions.1.transformer_blocks.0.attn1.to_k\n",
      "LoRA-change: down_blocks.2.attentions.1.transformer_blocks.0.attn1.to_v\n",
      "LoRA-change: down_blocks.2.attentions.1.transformer_blocks.0.attn1.to_out.0\n",
      "LoRA-change: down_blocks.2.attentions.1.transformer_blocks.0.attn2.to_q\n",
      "LoRA-change: down_blocks.2.attentions.1.transformer_blocks.0.attn2.to_k\n",
      "LoRA-change: down_blocks.2.attentions.1.transformer_blocks.0.attn2.to_v\n",
      "LoRA-change: down_blocks.2.attentions.1.transformer_blocks.0.attn2.to_out.0\n",
      "LoRA-change: down_blocks.2.attentions.1.transformer_blocks.0.ff.net.0.proj\n",
      "LoRA-change: down_blocks.2.attentions.1.transformer_blocks.0.ff.net.2\n",
      "LoRA-change: down_blocks.2.resnets.0.time_emb_proj\n",
      "LoRA-change: down_blocks.2.resnets.1.time_emb_proj\n",
      "LoRA-change: down_blocks.3.resnets.0.time_emb_proj\n",
      "LoRA-change: down_blocks.3.resnets.1.time_emb_proj\n",
      "LoRA-change: up_blocks.0.resnets.0.time_emb_proj\n",
      "LoRA-change: up_blocks.0.resnets.1.time_emb_proj\n",
      "LoRA-change: up_blocks.0.resnets.2.time_emb_proj\n",
      "LoRA-change: up_blocks.1.attentions.0.transformer_blocks.0.attn1.to_q\n",
      "LoRA-change: up_blocks.1.attentions.0.transformer_blocks.0.attn1.to_k\n",
      "LoRA-change: up_blocks.1.attentions.0.transformer_blocks.0.attn1.to_v\n",
      "LoRA-change: up_blocks.1.attentions.0.transformer_blocks.0.attn1.to_out.0\n",
      "LoRA-change: up_blocks.1.attentions.0.transformer_blocks.0.attn2.to_q\n",
      "LoRA-change: up_blocks.1.attentions.0.transformer_blocks.0.attn2.to_k\n",
      "LoRA-change: up_blocks.1.attentions.0.transformer_blocks.0.attn2.to_v\n",
      "LoRA-change: up_blocks.1.attentions.0.transformer_blocks.0.attn2.to_out.0\n",
      "LoRA-change: up_blocks.1.attentions.0.transformer_blocks.0.ff.net.0.proj\n",
      "LoRA-change: up_blocks.1.attentions.0.transformer_blocks.0.ff.net.2\n",
      "LoRA-change: up_blocks.1.attentions.1.transformer_blocks.0.attn1.to_q\n",
      "LoRA-change: up_blocks.1.attentions.1.transformer_blocks.0.attn1.to_k\n",
      "LoRA-change: up_blocks.1.attentions.1.transformer_blocks.0.attn1.to_v\n",
      "LoRA-change: up_blocks.1.attentions.1.transformer_blocks.0.attn1.to_out.0\n",
      "LoRA-change: up_blocks.1.attentions.1.transformer_blocks.0.attn2.to_q\n",
      "LoRA-change: up_blocks.1.attentions.1.transformer_blocks.0.attn2.to_k\n",
      "LoRA-change: up_blocks.1.attentions.1.transformer_blocks.0.attn2.to_v\n",
      "LoRA-change: up_blocks.1.attentions.1.transformer_blocks.0.attn2.to_out.0\n",
      "LoRA-change: up_blocks.1.attentions.1.transformer_blocks.0.ff.net.0.proj\n",
      "LoRA-change: up_blocks.1.attentions.1.transformer_blocks.0.ff.net.2\n",
      "LoRA-change: up_blocks.1.attentions.2.transformer_blocks.0.attn1.to_q\n",
      "LoRA-change: up_blocks.1.attentions.2.transformer_blocks.0.attn1.to_k\n",
      "LoRA-change: up_blocks.1.attentions.2.transformer_blocks.0.attn1.to_v\n",
      "LoRA-change: up_blocks.1.attentions.2.transformer_blocks.0.attn1.to_out.0\n",
      "LoRA-change: up_blocks.1.attentions.2.transformer_blocks.0.attn2.to_q\n",
      "LoRA-change: up_blocks.1.attentions.2.transformer_blocks.0.attn2.to_k\n",
      "LoRA-change: up_blocks.1.attentions.2.transformer_blocks.0.attn2.to_v\n",
      "LoRA-change: up_blocks.1.attentions.2.transformer_blocks.0.attn2.to_out.0\n",
      "LoRA-change: up_blocks.1.attentions.2.transformer_blocks.0.ff.net.0.proj\n",
      "LoRA-change: up_blocks.1.attentions.2.transformer_blocks.0.ff.net.2\n",
      "LoRA-change: up_blocks.1.resnets.0.time_emb_proj\n",
      "LoRA-change: up_blocks.1.resnets.1.time_emb_proj\n",
      "LoRA-change: up_blocks.1.resnets.2.time_emb_proj\n",
      "LoRA-change: up_blocks.2.attentions.0.transformer_blocks.0.attn1.to_q\n",
      "LoRA-change: up_blocks.2.attentions.0.transformer_blocks.0.attn1.to_k\n",
      "LoRA-change: up_blocks.2.attentions.0.transformer_blocks.0.attn1.to_v\n",
      "LoRA-change: up_blocks.2.attentions.0.transformer_blocks.0.attn1.to_out.0\n",
      "LoRA-change: up_blocks.2.attentions.0.transformer_blocks.0.attn2.to_q\n",
      "LoRA-change: up_blocks.2.attentions.0.transformer_blocks.0.attn2.to_k\n",
      "LoRA-change: up_blocks.2.attentions.0.transformer_blocks.0.attn2.to_v\n",
      "LoRA-change: up_blocks.2.attentions.0.transformer_blocks.0.attn2.to_out.0\n",
      "LoRA-change: up_blocks.2.attentions.0.transformer_blocks.0.ff.net.0.proj\n",
      "LoRA-change: up_blocks.2.attentions.0.transformer_blocks.0.ff.net.2\n",
      "LoRA-change: up_blocks.2.attentions.1.transformer_blocks.0.attn1.to_q\n",
      "LoRA-change: up_blocks.2.attentions.1.transformer_blocks.0.attn1.to_k\n",
      "LoRA-change: up_blocks.2.attentions.1.transformer_blocks.0.attn1.to_v\n",
      "LoRA-change: up_blocks.2.attentions.1.transformer_blocks.0.attn1.to_out.0\n",
      "LoRA-change: up_blocks.2.attentions.1.transformer_blocks.0.attn2.to_q\n",
      "LoRA-change: up_blocks.2.attentions.1.transformer_blocks.0.attn2.to_k\n",
      "LoRA-change: up_blocks.2.attentions.1.transformer_blocks.0.attn2.to_v\n",
      "LoRA-change: up_blocks.2.attentions.1.transformer_blocks.0.attn2.to_out.0\n",
      "LoRA-change: up_blocks.2.attentions.1.transformer_blocks.0.ff.net.0.proj\n",
      "LoRA-change: up_blocks.2.attentions.1.transformer_blocks.0.ff.net.2\n",
      "LoRA-change: up_blocks.2.attentions.2.transformer_blocks.0.attn1.to_q\n",
      "LoRA-change: up_blocks.2.attentions.2.transformer_blocks.0.attn1.to_k\n",
      "LoRA-change: up_blocks.2.attentions.2.transformer_blocks.0.attn1.to_v\n",
      "LoRA-change: up_blocks.2.attentions.2.transformer_blocks.0.attn1.to_out.0\n",
      "LoRA-change: up_blocks.2.attentions.2.transformer_blocks.0.attn2.to_q\n",
      "LoRA-change: up_blocks.2.attentions.2.transformer_blocks.0.attn2.to_k\n",
      "LoRA-change: up_blocks.2.attentions.2.transformer_blocks.0.attn2.to_v\n",
      "LoRA-change: up_blocks.2.attentions.2.transformer_blocks.0.attn2.to_out.0\n",
      "LoRA-change: up_blocks.2.attentions.2.transformer_blocks.0.ff.net.0.proj\n",
      "LoRA-change: up_blocks.2.attentions.2.transformer_blocks.0.ff.net.2\n",
      "LoRA-change: up_blocks.2.resnets.0.time_emb_proj\n",
      "LoRA-change: up_blocks.2.resnets.1.time_emb_proj\n",
      "LoRA-change: up_blocks.2.resnets.2.time_emb_proj\n",
      "LoRA-change: up_blocks.3.attentions.0.transformer_blocks.0.attn1.to_q\n",
      "LoRA-change: up_blocks.3.attentions.0.transformer_blocks.0.attn1.to_k\n",
      "LoRA-change: up_blocks.3.attentions.0.transformer_blocks.0.attn1.to_v\n",
      "LoRA-change: up_blocks.3.attentions.0.transformer_blocks.0.attn1.to_out.0\n",
      "LoRA-change: up_blocks.3.attentions.0.transformer_blocks.0.attn2.to_q\n",
      "LoRA-change: up_blocks.3.attentions.0.transformer_blocks.0.attn2.to_k\n",
      "LoRA-change: up_blocks.3.attentions.0.transformer_blocks.0.attn2.to_v\n",
      "LoRA-change: up_blocks.3.attentions.0.transformer_blocks.0.attn2.to_out.0\n",
      "LoRA-change: up_blocks.3.attentions.0.transformer_blocks.0.ff.net.0.proj\n",
      "LoRA-change: up_blocks.3.attentions.0.transformer_blocks.0.ff.net.2\n",
      "LoRA-change: up_blocks.3.attentions.1.transformer_blocks.0.attn1.to_q\n",
      "LoRA-change: up_blocks.3.attentions.1.transformer_blocks.0.attn1.to_k\n",
      "LoRA-change: up_blocks.3.attentions.1.transformer_blocks.0.attn1.to_v\n",
      "LoRA-change: up_blocks.3.attentions.1.transformer_blocks.0.attn1.to_out.0\n",
      "LoRA-change: up_blocks.3.attentions.1.transformer_blocks.0.attn2.to_q\n",
      "LoRA-change: up_blocks.3.attentions.1.transformer_blocks.0.attn2.to_k\n",
      "LoRA-change: up_blocks.3.attentions.1.transformer_blocks.0.attn2.to_v\n",
      "LoRA-change: up_blocks.3.attentions.1.transformer_blocks.0.attn2.to_out.0\n",
      "LoRA-change: up_blocks.3.attentions.1.transformer_blocks.0.ff.net.0.proj\n",
      "LoRA-change: up_blocks.3.attentions.1.transformer_blocks.0.ff.net.2\n",
      "LoRA-change: up_blocks.3.attentions.2.transformer_blocks.0.attn1.to_q\n",
      "LoRA-change: up_blocks.3.attentions.2.transformer_blocks.0.attn1.to_k\n",
      "LoRA-change: up_blocks.3.attentions.2.transformer_blocks.0.attn1.to_v\n",
      "LoRA-change: up_blocks.3.attentions.2.transformer_blocks.0.attn1.to_out.0\n",
      "LoRA-change: up_blocks.3.attentions.2.transformer_blocks.0.attn2.to_q\n",
      "LoRA-change: up_blocks.3.attentions.2.transformer_blocks.0.attn2.to_k\n",
      "LoRA-change: up_blocks.3.attentions.2.transformer_blocks.0.attn2.to_v\n",
      "LoRA-change: up_blocks.3.attentions.2.transformer_blocks.0.attn2.to_out.0\n",
      "LoRA-change: up_blocks.3.attentions.2.transformer_blocks.0.ff.net.0.proj\n",
      "LoRA-change: up_blocks.3.attentions.2.transformer_blocks.0.ff.net.2\n",
      "LoRA-change: up_blocks.3.resnets.0.time_emb_proj\n",
      "LoRA-change: up_blocks.3.resnets.1.time_emb_proj\n",
      "LoRA-change: up_blocks.3.resnets.2.time_emb_proj\n",
      "LoRA-change: mid_block.attentions.0.transformer_blocks.0.attn1.to_q\n",
      "LoRA-change: mid_block.attentions.0.transformer_blocks.0.attn1.to_k\n",
      "LoRA-change: mid_block.attentions.0.transformer_blocks.0.attn1.to_v\n",
      "LoRA-change: mid_block.attentions.0.transformer_blocks.0.attn1.to_out.0\n",
      "LoRA-change: mid_block.attentions.0.transformer_blocks.0.attn2.to_q\n",
      "LoRA-change: mid_block.attentions.0.transformer_blocks.0.attn2.to_k\n",
      "LoRA-change: mid_block.attentions.0.transformer_blocks.0.attn2.to_v\n",
      "LoRA-change: mid_block.attentions.0.transformer_blocks.0.attn2.to_out.0\n",
      "LoRA-change: mid_block.attentions.0.transformer_blocks.0.ff.net.0.proj\n",
      "LoRA-change: mid_block.attentions.0.transformer_blocks.0.ff.net.2\n",
      "LoRA-change: mid_block.resnets.0.time_emb_proj\n",
      "LoRA-change: mid_block.resnets.1.time_emb_proj\n",
      "LoRA-change: encoder.mid_block.attentions.0.to_q\n",
      "LoRA-change: encoder.mid_block.attentions.0.to_k\n",
      "LoRA-change: encoder.mid_block.attentions.0.to_v\n",
      "LoRA-change: encoder.mid_block.attentions.0.to_out.0\n",
      "LoRA-change: decoder.mid_block.attentions.0.to_q\n",
      "LoRA-change: decoder.mid_block.attentions.0.to_k\n",
      "LoRA-change: decoder.mid_block.attentions.0.to_v\n",
      "LoRA-change: decoder.mid_block.attentions.0.to_out.0\n",
      "LoRA-change: text_model.encoder.layers.0.self_attn.k_proj\n",
      "LoRA-change: text_model.encoder.layers.0.self_attn.v_proj\n",
      "LoRA-change: text_model.encoder.layers.0.self_attn.q_proj\n",
      "LoRA-change: text_model.encoder.layers.0.self_attn.out_proj\n",
      "LoRA-change: text_model.encoder.layers.0.mlp.fc1\n",
      "LoRA-change: text_model.encoder.layers.0.mlp.fc2\n",
      "LoRA-change: text_model.encoder.layers.1.self_attn.k_proj\n",
      "LoRA-change: text_model.encoder.layers.1.self_attn.v_proj\n",
      "LoRA-change: text_model.encoder.layers.1.self_attn.q_proj\n",
      "LoRA-change: text_model.encoder.layers.1.self_attn.out_proj\n",
      "LoRA-change: text_model.encoder.layers.1.mlp.fc1\n",
      "LoRA-change: text_model.encoder.layers.1.mlp.fc2\n",
      "LoRA-change: text_model.encoder.layers.2.self_attn.k_proj\n",
      "LoRA-change: text_model.encoder.layers.2.self_attn.v_proj\n",
      "LoRA-change: text_model.encoder.layers.2.self_attn.q_proj\n",
      "LoRA-change: text_model.encoder.layers.2.self_attn.out_proj\n",
      "LoRA-change: text_model.encoder.layers.2.mlp.fc1\n",
      "LoRA-change: text_model.encoder.layers.2.mlp.fc2\n",
      "LoRA-change: text_model.encoder.layers.3.self_attn.k_proj\n",
      "LoRA-change: text_model.encoder.layers.3.self_attn.v_proj\n",
      "LoRA-change: text_model.encoder.layers.3.self_attn.q_proj\n",
      "LoRA-change: text_model.encoder.layers.3.self_attn.out_proj\n",
      "LoRA-change: text_model.encoder.layers.3.mlp.fc1\n",
      "LoRA-change: text_model.encoder.layers.3.mlp.fc2\n",
      "LoRA-change: text_model.encoder.layers.4.self_attn.k_proj\n",
      "LoRA-change: text_model.encoder.layers.4.self_attn.v_proj\n",
      "LoRA-change: text_model.encoder.layers.4.self_attn.q_proj\n",
      "LoRA-change: text_model.encoder.layers.4.self_attn.out_proj\n",
      "LoRA-change: text_model.encoder.layers.4.mlp.fc1\n",
      "LoRA-change: text_model.encoder.layers.4.mlp.fc2\n",
      "LoRA-change: text_model.encoder.layers.5.self_attn.k_proj\n",
      "LoRA-change: text_model.encoder.layers.5.self_attn.v_proj\n",
      "LoRA-change: text_model.encoder.layers.5.self_attn.q_proj\n",
      "LoRA-change: text_model.encoder.layers.5.self_attn.out_proj\n",
      "LoRA-change: text_model.encoder.layers.5.mlp.fc1\n",
      "LoRA-change: text_model.encoder.layers.5.mlp.fc2\n",
      "LoRA-change: text_model.encoder.layers.6.self_attn.k_proj\n",
      "LoRA-change: text_model.encoder.layers.6.self_attn.v_proj\n",
      "LoRA-change: text_model.encoder.layers.6.self_attn.q_proj\n",
      "LoRA-change: text_model.encoder.layers.6.self_attn.out_proj\n",
      "LoRA-change: text_model.encoder.layers.6.mlp.fc1\n",
      "LoRA-change: text_model.encoder.layers.6.mlp.fc2\n",
      "LoRA-change: text_model.encoder.layers.7.self_attn.k_proj\n",
      "LoRA-change: text_model.encoder.layers.7.self_attn.v_proj\n",
      "LoRA-change: text_model.encoder.layers.7.self_attn.q_proj\n",
      "LoRA-change: text_model.encoder.layers.7.self_attn.out_proj\n",
      "LoRA-change: text_model.encoder.layers.7.mlp.fc1\n",
      "LoRA-change: text_model.encoder.layers.7.mlp.fc2\n",
      "LoRA-change: text_model.encoder.layers.8.self_attn.k_proj\n",
      "LoRA-change: text_model.encoder.layers.8.self_attn.v_proj\n",
      "LoRA-change: text_model.encoder.layers.8.self_attn.q_proj\n",
      "LoRA-change: text_model.encoder.layers.8.self_attn.out_proj\n",
      "LoRA-change: text_model.encoder.layers.8.mlp.fc1\n",
      "LoRA-change: text_model.encoder.layers.8.mlp.fc2\n",
      "LoRA-change: text_model.encoder.layers.9.self_attn.k_proj\n",
      "LoRA-change: text_model.encoder.layers.9.self_attn.v_proj\n",
      "LoRA-change: text_model.encoder.layers.9.self_attn.q_proj\n",
      "LoRA-change: text_model.encoder.layers.9.self_attn.out_proj\n",
      "LoRA-change: text_model.encoder.layers.9.mlp.fc1\n",
      "LoRA-change: text_model.encoder.layers.9.mlp.fc2\n",
      "LoRA-change: text_model.encoder.layers.10.self_attn.k_proj\n",
      "LoRA-change: text_model.encoder.layers.10.self_attn.v_proj\n",
      "LoRA-change: text_model.encoder.layers.10.self_attn.q_proj\n",
      "LoRA-change: text_model.encoder.layers.10.self_attn.out_proj\n",
      "LoRA-change: text_model.encoder.layers.10.mlp.fc1\n",
      "LoRA-change: text_model.encoder.layers.10.mlp.fc2\n",
      "LoRA-change: text_model.encoder.layers.11.self_attn.k_proj\n",
      "LoRA-change: text_model.encoder.layers.11.self_attn.v_proj\n",
      "LoRA-change: text_model.encoder.layers.11.self_attn.q_proj\n",
      "LoRA-change: text_model.encoder.layers.11.self_attn.out_proj\n",
      "LoRA-change: text_model.encoder.layers.11.mlp.fc1\n",
      "LoRA-change: text_model.encoder.layers.11.mlp.fc2\n"
     ]
    },
    {
     "name": "stderr",
     "output_type": "stream",
     "text": [
      "Epoch 1/20: 100%|██████████| 25/25 [00:06<00:00,  3.58it/s]\n"
     ]
    },
    {
     "name": "stdout",
     "output_type": "stream",
     "text": [
      "Epoch 1 completed. Avg Loss: 0.05389774950221181\n"
     ]
    },
    {
     "name": "stderr",
     "output_type": "stream",
     "text": [
      "Epoch 2/20: 100%|██████████| 25/25 [00:06<00:00,  3.89it/s]\n"
     ]
    },
    {
     "name": "stdout",
     "output_type": "stream",
     "text": [
      "Epoch 2 completed. Avg Loss: 0.045330538311973215\n"
     ]
    },
    {
     "name": "stderr",
     "output_type": "stream",
     "text": [
      "Epoch 3/20: 100%|██████████| 25/25 [00:07<00:00,  3.47it/s]\n"
     ]
    },
    {
     "name": "stdout",
     "output_type": "stream",
     "text": [
      "Epoch 3 completed. Avg Loss: 0.03182743863202631\n"
     ]
    },
    {
     "name": "stderr",
     "output_type": "stream",
     "text": [
      "Epoch 4/20: 100%|██████████| 25/25 [00:06<00:00,  3.58it/s]\n"
     ]
    },
    {
     "name": "stdout",
     "output_type": "stream",
     "text": [
      "Epoch 4 completed. Avg Loss: 0.036081603337079285\n"
     ]
    },
    {
     "name": "stderr",
     "output_type": "stream",
     "text": [
      "Epoch 5/20: 100%|██████████| 25/25 [00:07<00:00,  3.28it/s]\n"
     ]
    },
    {
     "name": "stdout",
     "output_type": "stream",
     "text": [
      "Epoch 5 completed. Avg Loss: 0.03003336306195706\n"
     ]
    },
    {
     "name": "stderr",
     "output_type": "stream",
     "text": [
      "Epoch 6/20: 100%|██████████| 25/25 [00:06<00:00,  3.68it/s]\n"
     ]
    },
    {
     "name": "stdout",
     "output_type": "stream",
     "text": [
      "Epoch 6 completed. Avg Loss: 0.03727402943186462\n"
     ]
    },
    {
     "name": "stderr",
     "output_type": "stream",
     "text": [
      "Epoch 7/20: 100%|██████████| 25/25 [00:07<00:00,  3.52it/s]\n"
     ]
    },
    {
     "name": "stdout",
     "output_type": "stream",
     "text": [
      "Epoch 7 completed. Avg Loss: 0.031175592893268912\n"
     ]
    },
    {
     "name": "stderr",
     "output_type": "stream",
     "text": [
      "Epoch 8/20: 100%|██████████| 25/25 [00:07<00:00,  3.35it/s]\n"
     ]
    },
    {
     "name": "stdout",
     "output_type": "stream",
     "text": [
      "Epoch 8 completed. Avg Loss: 0.02174059708137065\n"
     ]
    },
    {
     "name": "stderr",
     "output_type": "stream",
     "text": [
      "Epoch 9/20: 100%|██████████| 25/25 [00:07<00:00,  3.40it/s]\n"
     ]
    },
    {
     "name": "stdout",
     "output_type": "stream",
     "text": [
      "Epoch 9 completed. Avg Loss: 0.032375190090388056\n"
     ]
    },
    {
     "name": "stderr",
     "output_type": "stream",
     "text": [
      "Epoch 10/20: 100%|██████████| 25/25 [00:07<00:00,  3.57it/s]\n"
     ]
    },
    {
     "name": "stdout",
     "output_type": "stream",
     "text": [
      "Epoch 10 completed. Avg Loss: 0.027309614783152938\n"
     ]
    },
    {
     "name": "stderr",
     "output_type": "stream",
     "text": [
      "Epoch 11/20: 100%|██████████| 25/25 [00:06<00:00,  3.81it/s]\n"
     ]
    },
    {
     "name": "stdout",
     "output_type": "stream",
     "text": [
      "Epoch 11 completed. Avg Loss: 0.029107805932872\n"
     ]
    },
    {
     "name": "stderr",
     "output_type": "stream",
     "text": [
      "Epoch 12/20: 100%|██████████| 25/25 [00:07<00:00,  3.39it/s]\n"
     ]
    },
    {
     "name": "stdout",
     "output_type": "stream",
     "text": [
      "Epoch 12 completed. Avg Loss: 0.019570316146127878\n"
     ]
    },
    {
     "name": "stderr",
     "output_type": "stream",
     "text": [
      "Epoch 13/20: 100%|██████████| 25/25 [00:07<00:00,  3.54it/s]\n"
     ]
    },
    {
     "name": "stdout",
     "output_type": "stream",
     "text": [
      "Epoch 13 completed. Avg Loss: 0.040591212648432705\n"
     ]
    },
    {
     "name": "stderr",
     "output_type": "stream",
     "text": [
      "Epoch 14/20: 100%|██████████| 25/25 [00:06<00:00,  3.61it/s]\n"
     ]
    },
    {
     "name": "stdout",
     "output_type": "stream",
     "text": [
      "Epoch 14 completed. Avg Loss: 0.034369726637378334\n"
     ]
    },
    {
     "name": "stderr",
     "output_type": "stream",
     "text": [
      "Epoch 15/20: 100%|██████████| 25/25 [00:06<00:00,  3.67it/s]\n"
     ]
    },
    {
     "name": "stdout",
     "output_type": "stream",
     "text": [
      "Epoch 15 completed. Avg Loss: 0.029144022418186068\n"
     ]
    },
    {
     "name": "stderr",
     "output_type": "stream",
     "text": [
      "Epoch 16/20: 100%|██████████| 25/25 [00:07<00:00,  3.54it/s]\n"
     ]
    },
    {
     "name": "stdout",
     "output_type": "stream",
     "text": [
      "Epoch 16 completed. Avg Loss: 0.022418071664869785\n"
     ]
    },
    {
     "name": "stderr",
     "output_type": "stream",
     "text": [
      "Epoch 17/20: 100%|██████████| 25/25 [00:07<00:00,  3.15it/s]\n"
     ]
    },
    {
     "name": "stdout",
     "output_type": "stream",
     "text": [
      "Epoch 17 completed. Avg Loss: 0.05663077462464571\n"
     ]
    },
    {
     "name": "stderr",
     "output_type": "stream",
     "text": [
      "Epoch 18/20: 100%|██████████| 25/25 [00:07<00:00,  3.50it/s]\n"
     ]
    },
    {
     "name": "stdout",
     "output_type": "stream",
     "text": [
      "Epoch 18 completed. Avg Loss: 0.038407605295069515\n"
     ]
    },
    {
     "name": "stderr",
     "output_type": "stream",
     "text": [
      "Epoch 19/20: 100%|██████████| 25/25 [00:07<00:00,  3.45it/s]\n"
     ]
    },
    {
     "name": "stdout",
     "output_type": "stream",
     "text": [
      "Epoch 19 completed. Avg Loss: 0.02813806435558945\n"
     ]
    },
    {
     "name": "stderr",
     "output_type": "stream",
     "text": [
      "Epoch 20/20: 100%|██████████| 25/25 [00:07<00:00,  3.55it/s]\n"
     ]
    },
    {
     "name": "stdout",
     "output_type": "stream",
     "text": [
      "Epoch 20 completed. Avg Loss: 0.036252287172246725\n",
      "Loss curve saved to experiments/experiment_20250116_205129/loss_curve.png\n",
      "Final weights saved to experiments/experiment_20250116_205129/lora_weights_last_epoch.pth.\n"
     ]
    }
   ],
   "source": [
    "train_lora(vae=vae, unet=unet, text_encoder=text_encoder, tokenizer=tokenizer, noise_scheduler=noise_scheduler, dataloader=dataloader, device=DEVICE, lora_rank=LORA_RANK, lora_alpha=LORA_ALPHA, num_epochs=NUM_EPOCHS, lr=LR, save_dir=SAVE_DIR)"
   ]
  },
  {
   "cell_type": "code",
   "execution_count": 9,
   "metadata": {},
   "outputs": [
    {
     "name": "stderr",
     "output_type": "stream",
     "text": [
      "100%|██████████| 30/30 [00:01<00:00, 15.24it/s]\n"
     ]
    },
    {
     "name": "stdout",
     "output_type": "stream",
     "text": [
      "Generated picture save in : results/training_results/2/test_lora_all_sd.png\n"
     ]
    }
   ],
   "source": [
    "generate_image(pipe, PROMPT, os.path.join(TRAINING_RESULTS, \"test_lora_all_sd.png\"))"
   ]
  }
 ],
 "metadata": {
  "kernelspec": {
   "display_name": "diff-lora",
   "language": "python",
   "name": "python3"
  },
  "language_info": {
   "codemirror_mode": {
    "name": "ipython",
    "version": 3
   },
   "file_extension": ".py",
   "mimetype": "text/x-python",
   "name": "python",
   "nbconvert_exporter": "python",
   "pygments_lexer": "ipython3",
   "version": "3.12.8"
  }
 },
 "nbformat": 4,
 "nbformat_minor": 2
}
